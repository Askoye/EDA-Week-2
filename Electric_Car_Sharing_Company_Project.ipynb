{
  "nbformat": 4,
  "nbformat_minor": 0,
  "metadata": {
    "colab": {
      "name": "Electric Car Sharing Company Project",
      "provenance": [],
      "collapsed_sections": [],
      "toc_visible": true,
      "authorship_tag": "ABX9TyNBKSUm/Oad6wv/7NOZbuIN",
      "include_colab_link": true
    },
    "kernelspec": {
      "name": "python3",
      "display_name": "Python 3"
    }
  },
  "cells": [
    {
      "cell_type": "markdown",
      "metadata": {
        "id": "view-in-github",
        "colab_type": "text"
      },
      "source": [
        "<a href=\"https://colab.research.google.com/github/Askoye/Electric-Car-Sharing-Company-Project/blob/master/Electric_Car_Sharing_Company_Project.ipynb\" target=\"_parent\"><img src=\"https://colab.research.google.com/assets/colab-badge.svg\" alt=\"Open In Colab\"/></a>"
      ]
    },
    {
      "cell_type": "markdown",
      "metadata": {
        "id": "QXqnJtrH9Vjf"
      },
      "source": [
        "\n",
        "# Electric Car Sharing Company Project"
      ]
    },
    {
      "cell_type": "markdown",
      "metadata": {
        "id": "JPEoqSZh9h5b"
      },
      "source": [
        "**Defining the Question**\n",
        "\n",
        "An electric car-sharing service company has delegated a task to process stations data in order to understand electric car usage over time by identifying the most popular hour of the day for picking up a shared electric car (Bluecar) in the city of Paris over the month of April 2018.\n",
        "\n",
        "Bonus Questions\n",
        "* What is the most popular hour for returning cars?\n",
        "* What station is the most popular? Overall? At the most popular picking hour?\n",
        "* What postal code is the most popular for picking up Blue cars? Does the most popular station belong to that postal code? Overall? At the most popular picking hour?\n",
        "* Do the results change if you consider Utilib and Utilib 1.4 instead of Blue cars? \n",
        "\n",
        "**Datasets Provided**\n",
        "\n",
        "* You can get the data and the dataset description for this project here [http://bit.ly/Autolibdataset] and here respectively [https://drive.google.com/a/moringaschool.com/file/d/13DXF2CFWQLeYxxHFekng8HJnH_jtbfpN/view?usp=sharing]) . \n",
        "\n",
        "The dataset contains data collected for a period of 3 days. The dataset may take a bit of some time to load [~ 10 minutes]. \n",
        "\n",
        "\n"
      ]
    },
    {
      "cell_type": "markdown",
      "metadata": {
        "id": "pQRmVEWD-l5J"
      },
      "source": [
        "### Importing our Libraries"
      ]
    },
    {
      "cell_type": "code",
      "metadata": {
        "id": "UYwdHvzM9BYs"
      },
      "source": [
        "# Importing the required libraries\n",
        "# ---\n",
        "# \n",
        "import pandas as pd\n",
        "import numpy as np\n",
        "import seaborn as sns\n",
        "import matplotlib.pyplot as plt\n",
        "%matplotlib inline"
      ],
      "execution_count": null,
      "outputs": []
    },
    {
      "cell_type": "markdown",
      "metadata": {
        "id": "CLrIuAwK-pmM"
      },
      "source": [
        "### Loading our Datasets"
      ]
    },
    {
      "cell_type": "code",
      "metadata": {
        "id": "BY8FjKKf-uPA",
        "colab": {
          "base_uri": "https://localhost:8080/",
          "height": 428
        },
        "outputId": "64656008-967a-4384-94cd-5e479d5b3f49"
      },
      "source": [
        "# Dataset 1\n",
        "# ---\n",
        "# Loading dataset 1 \n",
        "# ---\n",
        "# \n",
        "df = pd.read_csv('http://bit.ly/Autolibdataset')\n",
        "df.head()"
      ],
      "execution_count": null,
      "outputs": [
        {
          "output_type": "execute_result",
          "data": {
            "text/html": [
              "<div>\n",
              "<style scoped>\n",
              "    .dataframe tbody tr th:only-of-type {\n",
              "        vertical-align: middle;\n",
              "    }\n",
              "\n",
              "    .dataframe tbody tr th {\n",
              "        vertical-align: top;\n",
              "    }\n",
              "\n",
              "    .dataframe thead th {\n",
              "        text-align: right;\n",
              "    }\n",
              "</style>\n",
              "<table border=\"1\" class=\"dataframe\">\n",
              "  <thead>\n",
              "    <tr style=\"text-align: right;\">\n",
              "      <th></th>\n",
              "      <th>Unnamed: 0</th>\n",
              "      <th>Address</th>\n",
              "      <th>Cars</th>\n",
              "      <th>Bluecar counter</th>\n",
              "      <th>Utilib counter</th>\n",
              "      <th>Utilib 1.4 counter</th>\n",
              "      <th>Charge Slots</th>\n",
              "      <th>Charging Status</th>\n",
              "      <th>City</th>\n",
              "      <th>Displayed comment</th>\n",
              "      <th>ID</th>\n",
              "      <th>Kind</th>\n",
              "      <th>Geo point</th>\n",
              "      <th>Postal code</th>\n",
              "      <th>Public name</th>\n",
              "      <th>Rental status</th>\n",
              "      <th>Scheduled at</th>\n",
              "      <th>Slots</th>\n",
              "      <th>Station type</th>\n",
              "      <th>Status</th>\n",
              "      <th>Subscription status</th>\n",
              "      <th>year</th>\n",
              "      <th>month</th>\n",
              "      <th>day</th>\n",
              "      <th>hour</th>\n",
              "      <th>minute</th>\n",
              "    </tr>\n",
              "  </thead>\n",
              "  <tbody>\n",
              "    <tr>\n",
              "      <th>0</th>\n",
              "      <td>0</td>\n",
              "      <td>24 Rue Vulpian</td>\n",
              "      <td>3</td>\n",
              "      <td>3</td>\n",
              "      <td>1</td>\n",
              "      <td>0</td>\n",
              "      <td>1</td>\n",
              "      <td>operational</td>\n",
              "      <td>Paris</td>\n",
              "      <td>NaN</td>\n",
              "      <td>paris-vulpian-24</td>\n",
              "      <td>STATION</td>\n",
              "      <td>48.8310493, 2.3460584</td>\n",
              "      <td>75013</td>\n",
              "      <td>Paris/Vulpian/24</td>\n",
              "      <td>operational</td>\n",
              "      <td>NaN</td>\n",
              "      <td>1</td>\n",
              "      <td>station</td>\n",
              "      <td>ok</td>\n",
              "      <td>nonexistent</td>\n",
              "      <td>2018</td>\n",
              "      <td>4</td>\n",
              "      <td>1</td>\n",
              "      <td>0</td>\n",
              "      <td>0</td>\n",
              "    </tr>\n",
              "    <tr>\n",
              "      <th>1</th>\n",
              "      <td>1</td>\n",
              "      <td>8 Boulevard Richard Lenoir</td>\n",
              "      <td>0</td>\n",
              "      <td>0</td>\n",
              "      <td>0</td>\n",
              "      <td>0</td>\n",
              "      <td>1</td>\n",
              "      <td>operational</td>\n",
              "      <td>Paris</td>\n",
              "      <td>NaN</td>\n",
              "      <td>paris-richardlenoir-8</td>\n",
              "      <td>STATION</td>\n",
              "      <td>48.8545026, 2.370183</td>\n",
              "      <td>75011</td>\n",
              "      <td>Paris/Richard Lenoir/8</td>\n",
              "      <td>operational</td>\n",
              "      <td>NaN</td>\n",
              "      <td>3</td>\n",
              "      <td>station</td>\n",
              "      <td>ok</td>\n",
              "      <td>nonexistent</td>\n",
              "      <td>2018</td>\n",
              "      <td>4</td>\n",
              "      <td>1</td>\n",
              "      <td>0</td>\n",
              "      <td>0</td>\n",
              "    </tr>\n",
              "    <tr>\n",
              "      <th>2</th>\n",
              "      <td>2</td>\n",
              "      <td>4 Rue Charles Bossut</td>\n",
              "      <td>3</td>\n",
              "      <td>3</td>\n",
              "      <td>0</td>\n",
              "      <td>0</td>\n",
              "      <td>1</td>\n",
              "      <td>operational</td>\n",
              "      <td>Paris</td>\n",
              "      <td>NaN</td>\n",
              "      <td>paris-charlesbossut-4</td>\n",
              "      <td>STATION</td>\n",
              "      <td>48.8431847, 2.3837959</td>\n",
              "      <td>75012</td>\n",
              "      <td>Paris/Charles Bossut/4</td>\n",
              "      <td>operational</td>\n",
              "      <td>NaN</td>\n",
              "      <td>2</td>\n",
              "      <td>station</td>\n",
              "      <td>ok</td>\n",
              "      <td>nonexistent</td>\n",
              "      <td>2018</td>\n",
              "      <td>4</td>\n",
              "      <td>1</td>\n",
              "      <td>0</td>\n",
              "      <td>0</td>\n",
              "    </tr>\n",
              "    <tr>\n",
              "      <th>3</th>\n",
              "      <td>3</td>\n",
              "      <td>3 avenue Claude Vellefaux</td>\n",
              "      <td>4</td>\n",
              "      <td>4</td>\n",
              "      <td>0</td>\n",
              "      <td>0</td>\n",
              "      <td>0</td>\n",
              "      <td>operational</td>\n",
              "      <td>Paris</td>\n",
              "      <td>NaN</td>\n",
              "      <td>paris-claudevellefaux-3</td>\n",
              "      <td>STATION</td>\n",
              "      <td>48.8740623, 2.3703034</td>\n",
              "      <td>75010</td>\n",
              "      <td>Paris/Claude Vellefaux/3</td>\n",
              "      <td>operational</td>\n",
              "      <td>NaN</td>\n",
              "      <td>1</td>\n",
              "      <td>station</td>\n",
              "      <td>ok</td>\n",
              "      <td>nonexistent</td>\n",
              "      <td>2018</td>\n",
              "      <td>4</td>\n",
              "      <td>1</td>\n",
              "      <td>0</td>\n",
              "      <td>0</td>\n",
              "    </tr>\n",
              "    <tr>\n",
              "      <th>4</th>\n",
              "      <td>4</td>\n",
              "      <td>236 Boulevard Voltaire</td>\n",
              "      <td>1</td>\n",
              "      <td>1</td>\n",
              "      <td>0</td>\n",
              "      <td>0</td>\n",
              "      <td>1</td>\n",
              "      <td>operational</td>\n",
              "      <td>Paris</td>\n",
              "      <td>NaN</td>\n",
              "      <td>paris-voltaire-236</td>\n",
              "      <td>STATION</td>\n",
              "      <td>48.852023, 2.389719</td>\n",
              "      <td>75011</td>\n",
              "      <td>Paris/Voltaire/236</td>\n",
              "      <td>operational</td>\n",
              "      <td>NaN</td>\n",
              "      <td>4</td>\n",
              "      <td>station</td>\n",
              "      <td>ok</td>\n",
              "      <td>nonexistent</td>\n",
              "      <td>2018</td>\n",
              "      <td>4</td>\n",
              "      <td>1</td>\n",
              "      <td>0</td>\n",
              "      <td>0</td>\n",
              "    </tr>\n",
              "  </tbody>\n",
              "</table>\n",
              "</div>"
            ],
            "text/plain": [
              "   Unnamed: 0                     Address  Cars  ...  day  hour  minute\n",
              "0           0              24 Rue Vulpian     3  ...    1     0       0\n",
              "1           1  8 Boulevard Richard Lenoir     0  ...    1     0       0\n",
              "2           2        4 Rue Charles Bossut     3  ...    1     0       0\n",
              "3           3   3 avenue Claude Vellefaux     4  ...    1     0       0\n",
              "4           4      236 Boulevard Voltaire     1  ...    1     0       0\n",
              "\n",
              "[5 rows x 26 columns]"
            ]
          },
          "metadata": {
            "tags": []
          },
          "execution_count": 64
        }
      ]
    },
    {
      "cell_type": "markdown",
      "metadata": {
        "id": "L3dWUTXa-vMZ"
      },
      "source": [
        "### Exploration"
      ]
    },
    {
      "cell_type": "code",
      "metadata": {
        "id": "MbJXTMK0-wjJ",
        "colab": {
          "base_uri": "https://localhost:8080/",
          "height": 544
        },
        "outputId": "d42eed32-b4ee-4cad-e9be-d29167d74409"
      },
      "source": [
        "# Dataset 1\n",
        "# ---\n",
        "# Checking the information for dataset 1\n",
        "# ---\n",
        "# \n",
        "df.info()"
      ],
      "execution_count": null,
      "outputs": [
        {
          "output_type": "stream",
          "text": [
            "<class 'pandas.core.frame.DataFrame'>\n",
            "RangeIndex: 14421829 entries, 0 to 14421828\n",
            "Data columns (total 26 columns):\n",
            "Unnamed: 0             int64\n",
            "Address                object\n",
            "Cars                   int64\n",
            "Bluecar counter        int64\n",
            "Utilib counter         int64\n",
            "Utilib 1.4 counter     int64\n",
            "Charge Slots           int64\n",
            "Charging Status        object\n",
            "City                   object\n",
            "Displayed comment      object\n",
            "ID                     object\n",
            "Kind                   object\n",
            "Geo point              object\n",
            "Postal code            int64\n",
            "Public name            object\n",
            "Rental status          object\n",
            "Scheduled at           object\n",
            "Slots                  int64\n",
            "Station type           object\n",
            "Status                 object\n",
            "Subscription status    object\n",
            "year                   int64\n",
            "month                  int64\n",
            "day                    int64\n",
            "hour                   int64\n",
            "minute                 int64\n",
            "dtypes: int64(13), object(13)\n",
            "memory usage: 2.8+ GB\n"
          ],
          "name": "stdout"
        }
      ]
    },
    {
      "cell_type": "code",
      "metadata": {
        "id": "uPKONxMxA-DM",
        "colab": {
          "base_uri": "https://localhost:8080/",
          "height": 34
        },
        "outputId": "506eea46-5d4a-4b03-ea7c-6659a1b5c904"
      },
      "source": [
        "# Determining the shape of our dataset\n",
        "# ---\n",
        "# \n",
        "df.shape"
      ],
      "execution_count": null,
      "outputs": [
        {
          "output_type": "execute_result",
          "data": {
            "text/plain": [
              "(14421829, 26)"
            ]
          },
          "metadata": {
            "tags": []
          },
          "execution_count": 66
        }
      ]
    },
    {
      "cell_type": "code",
      "metadata": {
        "id": "EyGoDndAMt0-",
        "colab": {
          "base_uri": "https://localhost:8080/",
          "height": 136
        },
        "outputId": "9df0a499-14e2-403c-e182-f65eb4118db7"
      },
      "source": [
        "df.columns"
      ],
      "execution_count": null,
      "outputs": [
        {
          "output_type": "execute_result",
          "data": {
            "text/plain": [
              "Index(['Unnamed: 0', 'Address', 'Cars', 'Bluecar counter', 'Utilib counter',\n",
              "       'Utilib 1.4 counter', 'Charge Slots', 'Charging Status', 'City',\n",
              "       'Displayed comment', 'ID', 'Kind', 'Geo point', 'Postal code',\n",
              "       'Public name', 'Rental status', 'Scheduled at', 'Slots', 'Station type',\n",
              "       'Status', 'Subscription status', 'year', 'month', 'day', 'hour',\n",
              "       'minute'],\n",
              "      dtype='object')"
            ]
          },
          "metadata": {
            "tags": []
          },
          "execution_count": 67
        }
      ]
    },
    {
      "cell_type": "markdown",
      "metadata": {
        "id": "c4A2EqX6-0V5"
      },
      "source": [
        "### Data Cleaning "
      ]
    },
    {
      "cell_type": "code",
      "metadata": {
        "id": "c_piuur0-1Tq",
        "colab": {
          "base_uri": "https://localhost:8080/",
          "height": 34
        },
        "outputId": "8b27feec-e38e-4751-f551-97f20f234014"
      },
      "source": [
        "# Data cleaning: Dropping irrelevant columns\n",
        "# ---\n",
        "# -> Dropping irrelevant columns \n",
        "# ---\n",
        "# \n",
        "df.drop(['Unnamed: 0','Cars', 'Displayed comment'], axis = 1, inplace = True)\n",
        "df.shape"
      ],
      "execution_count": null,
      "outputs": [
        {
          "output_type": "execute_result",
          "data": {
            "text/plain": [
              "(14421829, 23)"
            ]
          },
          "metadata": {
            "tags": []
          },
          "execution_count": 68
        }
      ]
    },
    {
      "cell_type": "code",
      "metadata": {
        "id": "EtLPNjNbBnSz",
        "colab": {
          "base_uri": "https://localhost:8080/",
          "height": 279
        },
        "outputId": "fb3395a7-01a0-4aa7-f6b5-ffa61059eb6d"
      },
      "source": [
        "# Data Cleaning: Outliers - 1\n",
        "# ---\n",
        "# -> Checking for outliers\n",
        "# ---\n",
        "# \n",
        "# Checking for outliers of Bluecars by day\n",
        "# ---\n",
        "bplot=sns.boxplot( x ='Bluecar counter', y= 'day',\n",
        "                 data=df, \n",
        "                 width=0.5,\n",
        "                 palette=\"colorblind\")\n",
        "\n",
        "# Observation\n",
        "# ---\n",
        "# There are no outliers\n",
        "# ---"
      ],
      "execution_count": null,
      "outputs": [
        {
          "output_type": "display_data",
          "data": {
            "image/png": "[encoded data removed]",
            "text/plain": [
              "<Figure size 432x288 with 1 Axes>"
            ]
          },
          "metadata": {
            "tags": []
          }
        }
      ]
    },
    {
      "cell_type": "code",
      "metadata": {
        "id": "nw4pdrYNC77Z",
        "colab": {
          "base_uri": "https://localhost:8080/",
          "height": 279
        },
        "outputId": "2716c4f4-3c99-4822-f41d-facf9d9a97d8"
      },
      "source": [
        "# Data Cleaning: Outliers - 2\n",
        "# ---\n",
        "# -> Checking for outliers\n",
        "# ---\n",
        "# \n",
        "# Checking outliers of Bluecars by hour\n",
        "bplot=sns.boxplot( x ='Bluecar counter', y= 'hour',\n",
        "                 data=df, \n",
        "                 width=0.5,\n",
        "                 palette=\"colorblind\")\n",
        "# Observation\n",
        "# ---\n",
        "# There are no outliers\n",
        "# ---"
      ],
      "execution_count": null,
      "outputs": [
        {
          "output_type": "display_data",
          "data": {
            "image/png": "[encoded data removed]",
            "text/plain": [
              "<Figure size 432x288 with 1 Axes>"
            ]
          },
          "metadata": {
            "tags": []
          }
        }
      ]
    },
    {
      "cell_type": "code",
      "metadata": {
        "id": "IzBLHGLcDAwo",
        "colab": {
          "base_uri": "https://localhost:8080/",
          "height": 279
        },
        "outputId": "d81ba68b-cebd-4580-cfef-e0ebc45ef973"
      },
      "source": [
        "# Data Cleaning: Outliers - 3\n",
        "# ---\n",
        "# -> Checking for outliers\n",
        "# ---\n",
        "# \n",
        "# Checking outliers of Slots by days\n",
        "bplot2=sns.boxplot( x ='Slots', y='day',\n",
        "                 data=df, \n",
        "                 width=0.5,\n",
        "                 palette=\"deep\")\n",
        "# Observation\n",
        "# ---\n",
        "# There are no outliers\n",
        "# ---"
      ],
      "execution_count": null,
      "outputs": [
        {
          "output_type": "display_data",
          "data": {
            "image/png": "[encoded data removed]",
            "text/plain": [
              "<Figure size 432x288 with 1 Axes>"
            ]
          },
          "metadata": {
            "tags": []
          }
        }
      ]
    },
    {
      "cell_type": "code",
      "metadata": {
        "id": "TvBGTmhZD0Y1",
        "colab": {
          "base_uri": "https://localhost:8080/",
          "height": 425
        },
        "outputId": "a22b3056-2454-4ef8-8bd2-927e5f7e4f47"
      },
      "source": [
        "# Data Cleaning: Missing Data\n",
        "# ---\n",
        "# -> Checking for missing data\n",
        "# ---\n",
        "# \n",
        "\n",
        "df.isnull().sum()\n",
        "\n",
        "# Observation\n",
        "# ---\n",
        "# Scheduled at column has many missing values\n",
        "\n",
        "# Recommendation\n",
        "# ---\n",
        "# Retain the column as it may be important"
      ],
      "execution_count": null,
      "outputs": [
        {
          "output_type": "execute_result",
          "data": {
            "text/plain": [
              "Address                       0\n",
              "Bluecar counter               0\n",
              "Utilib counter                0\n",
              "Utilib 1.4 counter            0\n",
              "Charge Slots                  0\n",
              "Charging Status               0\n",
              "City                          0\n",
              "ID                            0\n",
              "Kind                          0\n",
              "Geo point                     0\n",
              "Postal code                   0\n",
              "Public name                   0\n",
              "Rental status                 0\n",
              "Scheduled at           14310213\n",
              "Slots                         0\n",
              "Station type                  0\n",
              "Status                        0\n",
              "Subscription status           0\n",
              "year                          0\n",
              "month                         0\n",
              "day                           0\n",
              "hour                          0\n",
              "minute                        0\n",
              "dtype: int64"
            ]
          },
          "metadata": {
            "tags": []
          },
          "execution_count": 72
        }
      ]
    },
    {
      "cell_type": "code",
      "metadata": {
        "id": "SSW_ALFCGGEO",
        "colab": {
          "base_uri": "https://localhost:8080/",
          "height": 34
        },
        "outputId": "1715e499-fb60-4e5d-e18f-5227cd8fe522"
      },
      "source": [
        "# Data Cleaning: Dropping duplicates\n",
        "# ---\n",
        "# -> Dropping duplicate records\n",
        "# ---\n",
        "# \n",
        "df = df.drop_duplicates()\n",
        "df.shape"
      ],
      "execution_count": null,
      "outputs": [
        {
          "output_type": "execute_result",
          "data": {
            "text/plain": [
              "(14278939, 23)"
            ]
          },
          "metadata": {
            "tags": []
          },
          "execution_count": 73
        }
      ]
    },
    {
      "cell_type": "code",
      "metadata": {
        "id": "rBwr60I-Hbro"
      },
      "source": [
        "# Data Cleaning: Standardization - 1\n",
        "# ---\n",
        "# -> Removing spaces and converting column names to lower case \n",
        "# ---\n",
        "# \n",
        "# \n",
        "df.columns = df.columns.str.strip().str.lower().str.replace(' ', '_')"
      ],
      "execution_count": null,
      "outputs": []
    },
    {
      "cell_type": "code",
      "metadata": {
        "id": "0mbIxteAIbs8"
      },
      "source": [
        "# Data Pre-processing: \n",
        "# ---\n",
        "# -> Adding 3  columns that will provide the status for the three cars.\n",
        "# - Positive number means that a car was returned\n",
        "# - Negative number means that a car was picked\n",
        "# - Zero means that nothing happened (that the no car was picked nor returned)\n",
        "# ---\n",
        "# \n",
        "df['bluecar_status'] = df.bluecar_counter.diff()\n",
        "df['utilib_status'] = df.utilib_counter.diff()\n",
        "df['utilib_14_status'] = df[\"utilib_1.4_counter\"].diff()"
      ],
      "execution_count": null,
      "outputs": []
    },
    {
      "cell_type": "markdown",
      "metadata": {
        "id": "0jHOL_R--56c"
      },
      "source": [
        "### Performing Data Analysis"
      ]
    },
    {
      "cell_type": "markdown",
      "metadata": {
        "id": "lJ_p2uZ6HFRB"
      },
      "source": [
        "#### 1. Blue Car"
      ]
    },
    {
      "cell_type": "code",
      "metadata": {
        "id": "V5099BB9-6uV",
        "colab": {
          "base_uri": "https://localhost:8080/",
          "height": 68
        },
        "outputId": "ad838fcf-23d9-4a5f-9dda-907fca4a54bd"
      },
      "source": [
        "# Question 1\n",
        "# ---\n",
        "# What is the most popular hour of the day for picking up an electric blue car?\n",
        "# ---\n",
        "# \n",
        "df[(df.city == 'Paris') & (df.bluecar_status < 0)].groupby('hour')['hour'].count().sort_values(ascending = False)[0:1]"
      ],
      "execution_count": null,
      "outputs": [
        {
          "output_type": "execute_result",
          "data": {
            "text/plain": [
              "hour\n",
              "4    148287\n",
              "Name: hour, dtype: int64"
            ]
          },
          "metadata": {
            "tags": []
          },
          "execution_count": 79
        }
      ]
    },
    {
      "cell_type": "code",
      "metadata": {
        "id": "PEjSZmcnKYdX",
        "colab": {
          "base_uri": "https://localhost:8080/",
          "height": 68
        },
        "outputId": "24b1113d-de46-45d4-dce7-c7f4e500e02c"
      },
      "source": [
        "# Question 2\n",
        "# ---\n",
        "# What is the most popular hour of the day for returning blue cars?\n",
        "# ---\n",
        "# \n",
        "df[df.bluecar_status > 0].groupby('hour')['hour'].count().sort_values(ascending = False)[0:1]"
      ],
      "execution_count": null,
      "outputs": [
        {
          "output_type": "execute_result",
          "data": {
            "text/plain": [
              "hour\n",
              "21    249651\n",
              "Name: hour, dtype: int64"
            ]
          },
          "metadata": {
            "tags": []
          },
          "execution_count": 80
        }
      ]
    },
    {
      "cell_type": "code",
      "metadata": {
        "id": "eUlFv1toKpUg",
        "colab": {
          "base_uri": "https://localhost:8080/",
          "height": 68
        },
        "outputId": "8eba526e-3d23-4c51-ebc2-9fde72dd6bd1"
      },
      "source": [
        "# Question 3\n",
        "# ---\n",
        "# Which station are blue cars mostly picked?\n",
        "# ---\n",
        "# \n",
        "df[(df['bluecar_status'] < 0)& (df['status']=='ok')&(df['subscription_status']=='operational')].groupby('public_name')['public_name'].count().sort_values(ascending= False)[0:1]"
      ],
      "execution_count": null,
      "outputs": [
        {
          "output_type": "execute_result",
          "data": {
            "text/plain": [
              "public_name\n",
              "Malakoff/Charles de Gaulle/Parking    9135\n",
              "Name: public_name, dtype: int64"
            ]
          },
          "metadata": {
            "tags": []
          },
          "execution_count": 81
        }
      ]
    },
    {
      "cell_type": "code",
      "metadata": {
        "id": "nPBWE_62K-Mk",
        "colab": {
          "base_uri": "https://localhost:8080/",
          "height": 68
        },
        "outputId": "c2bd8f60-121b-4e3f-adb6-71d45d3831ef"
      },
      "source": [
        "# Question 4\n",
        "# ---\n",
        "# Which station are blue cars mostly returned?\n",
        "# ---\n",
        "# \n",
        "df[(df['bluecar_status'] > 0)& (df['status']=='ok')&(df['subscription_status']=='operational')].groupby('public_name')['public_name'].count().sort_values(ascending= False)[0:1]\n"
      ],
      "execution_count": null,
      "outputs": [
        {
          "output_type": "execute_result",
          "data": {
            "text/plain": [
              "public_name\n",
              "Colombes/MarÃ©chal Joffre/30    9826\n",
              "Name: public_name, dtype: int64"
            ]
          },
          "metadata": {
            "tags": []
          },
          "execution_count": 82
        }
      ]
    },
    {
      "cell_type": "code",
      "metadata": {
        "id": "a0Qy5d4PLEqF",
        "colab": {
          "base_uri": "https://localhost:8080/",
          "height": 68
        },
        "outputId": "b8c20fc4-1bf7-4265-d6a4-ddae0b95ac19"
      },
      "source": [
        "# Question 5\n",
        "# ---\n",
        "# Which is the most popular postal code for picking blue cars?\n",
        "# ---\n",
        "# \n",
        "df[(df['bluecar_status'] < 0)].groupby('postal_code')['postal_code'].count().sort_values(ascending= False)[0:1]"
      ],
      "execution_count": null,
      "outputs": [
        {
          "output_type": "execute_result",
          "data": {
            "text/plain": [
              "postal_code\n",
              "75015    287141\n",
              "Name: postal_code, dtype: int64"
            ]
          },
          "metadata": {
            "tags": []
          },
          "execution_count": 83
        }
      ]
    },
    {
      "cell_type": "code",
      "metadata": {
        "id": "ORbh0OoXLX47",
        "colab": {
          "base_uri": "https://localhost:8080/",
          "height": 68
        },
        "outputId": "28a17d27-84b3-4549-9b9a-6059ee37aa91"
      },
      "source": [
        "# Question 6\n",
        "# ---\n",
        "# Which is the most popular postal code for returning blue cars?\n",
        "# ---\n",
        "# \n",
        "df[(df['bluecar_status'] > 0)].groupby('postal_code')['postal_code'].count().sort_values(ascending= False)[0:1]"
      ],
      "execution_count": null,
      "outputs": [
        {
          "output_type": "execute_result",
          "data": {
            "text/plain": [
              "postal_code\n",
              "75016    314044\n",
              "Name: postal_code, dtype: int64"
            ]
          },
          "metadata": {
            "tags": []
          },
          "execution_count": 84
        }
      ]
    },
    {
      "cell_type": "markdown",
      "metadata": {
        "id": "tE3ow4muHMHe"
      },
      "source": [
        "#### 2. Utilib"
      ]
    },
    {
      "cell_type": "code",
      "metadata": {
        "id": "mr4kJk4JJd70",
        "colab": {
          "base_uri": "https://localhost:8080/",
          "height": 68
        },
        "outputId": "a2ec6148-376d-490a-ce27-dd326d4d4989"
      },
      "source": [
        "# Question 1\n",
        "# ---\n",
        "# What is the most popular hour of the day for picking up an electric utilib car?\n",
        "# ---\n",
        "# \n",
        "df[(df.city == 'Paris') & (df.utilib_status < 0)].groupby('hour')['hour'].count().sort_values(ascending = False)[0:1]"
      ],
      "execution_count": null,
      "outputs": [
        {
          "output_type": "execute_result",
          "data": {
            "text/plain": [
              "hour\n",
              "5    19606\n",
              "Name: hour, dtype: int64"
            ]
          },
          "metadata": {
            "tags": []
          },
          "execution_count": 85
        }
      ]
    },
    {
      "cell_type": "code",
      "metadata": {
        "id": "eDv-ZqrJLfUj",
        "colab": {
          "base_uri": "https://localhost:8080/",
          "height": 68
        },
        "outputId": "80d74c40-72ba-403e-e046-b0256655b0b8"
      },
      "source": [
        "# Question 2\n",
        "# ---\n",
        "# What is the most popular hour of the day for returning utilib cars?\n",
        "# ---\n",
        "# \n",
        "df[df.utilib_status > 0].groupby('hour')['hour'].count().sort_values(ascending = False)[0:1]"
      ],
      "execution_count": null,
      "outputs": [
        {
          "output_type": "execute_result",
          "data": {
            "text/plain": [
              "hour\n",
              "5    38106\n",
              "Name: hour, dtype: int64"
            ]
          },
          "metadata": {
            "tags": []
          },
          "execution_count": 86
        }
      ]
    },
    {
      "cell_type": "code",
      "metadata": {
        "id": "vY9jk2mnLmD9",
        "colab": {
          "base_uri": "https://localhost:8080/",
          "height": 68
        },
        "outputId": "92980c88-5ebc-44c4-f9be-cb6c08a36ef3"
      },
      "source": [
        "# Question 3\n",
        "# ---\n",
        "# Which station are utilib cars mostly picked from?\n",
        "# ---\n",
        "# \n",
        "df[(df['utilib_status'] < 0)& (df['status']=='ok')&(df['subscription_status']=='operational')].groupby('public_name')['public_name'].count().sort_values(ascending= False)[0:1]"
      ],
      "execution_count": null,
      "outputs": [
        {
          "output_type": "execute_result",
          "data": {
            "text/plain": [
              "public_name\n",
              "Boulogne-Billancourt/Gallieni/114    1711\n",
              "Name: public_name, dtype: int64"
            ]
          },
          "metadata": {
            "tags": []
          },
          "execution_count": 87
        }
      ]
    },
    {
      "cell_type": "code",
      "metadata": {
        "id": "zFc-rY6cLqzS",
        "colab": {
          "base_uri": "https://localhost:8080/",
          "height": 68
        },
        "outputId": "557e588b-32da-4169-96c0-10381a42a21b"
      },
      "source": [
        "# Question 4\n",
        "# ---\n",
        "# Which station are utilib cars mostly returned?\n",
        "# ---\n",
        "# \n",
        "df[(df['utilib_status'] > 0)& (df['status']=='ok')&(df['subscription_status']=='operational')].groupby('public_name')['public_name'].count().sort_values(ascending= False)[0:1]"
      ],
      "execution_count": null,
      "outputs": [
        {
          "output_type": "execute_result",
          "data": {
            "text/plain": [
              "public_name\n",
              "Nanterre/Gambetta/20    3020\n",
              "Name: public_name, dtype: int64"
            ]
          },
          "metadata": {
            "tags": []
          },
          "execution_count": 88
        }
      ]
    },
    {
      "cell_type": "code",
      "metadata": {
        "id": "522Y5eipL45x",
        "colab": {
          "base_uri": "https://localhost:8080/",
          "height": 68
        },
        "outputId": "04f20ddf-0e32-4e36-a14c-73368f7fe557"
      },
      "source": [
        "# Question 5\n",
        "# ---\n",
        "# Which is the most popular postal code for picking utilib cars?\n",
        "# ---\n",
        "# \n",
        "df[(df['utilib_status'] < 0)].groupby('postal_code')['postal_code'].count().sort_values(ascending= False)[0:1]"
      ],
      "execution_count": null,
      "outputs": [
        {
          "output_type": "execute_result",
          "data": {
            "text/plain": [
              "postal_code\n",
              "75015    45004\n",
              "Name: postal_code, dtype: int64"
            ]
          },
          "metadata": {
            "tags": []
          },
          "execution_count": 89
        }
      ]
    },
    {
      "cell_type": "code",
      "metadata": {
        "id": "0H3Ui60ZL-rS",
        "colab": {
          "base_uri": "https://localhost:8080/",
          "height": 68
        },
        "outputId": "451d3d81-c370-4855-827f-72e17f363f3d"
      },
      "source": [
        "# Question 6\n",
        "# ---\n",
        "# Which is the most popular postal code for picking utilib cars?\n",
        "# ---\n",
        "# \n",
        "df[(df['utilib_status'] > 0)].groupby('postal_code')['postal_code'].count().sort_values(ascending= False)[0:1]"
      ],
      "execution_count": null,
      "outputs": [
        {
          "output_type": "execute_result",
          "data": {
            "text/plain": [
              "postal_code\n",
              "75016    45928\n",
              "Name: postal_code, dtype: int64"
            ]
          },
          "metadata": {
            "tags": []
          },
          "execution_count": 90
        }
      ]
    },
    {
      "cell_type": "markdown",
      "metadata": {
        "id": "yap0L_TwJjLQ"
      },
      "source": [
        "#### 3. Utilib 1.4"
      ]
    },
    {
      "cell_type": "code",
      "metadata": {
        "id": "w2FecN0nJ9lB",
        "colab": {
          "base_uri": "https://localhost:8080/",
          "height": 68
        },
        "outputId": "731e1cc0-51c6-49a8-8dd1-fce89482abbc"
      },
      "source": [
        "# Question 1\n",
        "# ---\n",
        "# What is the most popular hour of the day for picking up an electric utilib 1.4 car?\n",
        "# ---\n",
        "# \n",
        "df[(df.city == 'Paris') & (df['utilib_14_status'] < 0)].groupby('hour')['hour'].count().sort_values(ascending = False)[0:1]"
      ],
      "execution_count": null,
      "outputs": [
        {
          "output_type": "execute_result",
          "data": {
            "text/plain": [
              "hour\n",
              "6    36246\n",
              "Name: hour, dtype: int64"
            ]
          },
          "metadata": {
            "tags": []
          },
          "execution_count": 91
        }
      ]
    },
    {
      "cell_type": "code",
      "metadata": {
        "id": "xOJFtV7DMUvw",
        "colab": {
          "base_uri": "https://localhost:8080/",
          "height": 68
        },
        "outputId": "1227a152-2a44-4208-9b15-42e226a7853f"
      },
      "source": [
        "# Question 2\n",
        "# ---\n",
        "# What is the most popular hour of the day for returning utilib 1.4 cars?\n",
        "# ---\n",
        "# \n",
        "df[(df.city == 'Paris') & (df.utilib_status > 0)].groupby('hour')['hour'].count().sort_values(ascending = False)[0:1]"
      ],
      "execution_count": null,
      "outputs": [
        {
          "output_type": "execute_result",
          "data": {
            "text/plain": [
              "hour\n",
              "7    17364\n",
              "Name: hour, dtype: int64"
            ]
          },
          "metadata": {
            "tags": []
          },
          "execution_count": 92
        }
      ]
    },
    {
      "cell_type": "code",
      "metadata": {
        "id": "yvT_wGPLMXx5",
        "colab": {
          "base_uri": "https://localhost:8080/",
          "height": 68
        },
        "outputId": "c7327930-e826-4495-dee9-a966739b6073"
      },
      "source": [
        "# Question 3\n",
        "# ---\n",
        "# Which station are utilib 1.4 cars mostly picked from?\n",
        "# ---\n",
        "# \n",
        "df[(df['utilib_14_status'] < 0)& (df['status']=='ok')&(df['subscription_status']=='operational')].groupby('public_name')['public_name'].count().sort_values(ascending= False)[0:1]"
      ],
      "execution_count": null,
      "outputs": [
        {
          "output_type": "execute_result",
          "data": {
            "text/plain": [
              "public_name\n",
              "Malakoff/Charles de Gaulle/Parking    2179\n",
              "Name: public_name, dtype: int64"
            ]
          },
          "metadata": {
            "tags": []
          },
          "execution_count": 93
        }
      ]
    },
    {
      "cell_type": "code",
      "metadata": {
        "id": "2pzjl0ozMan7",
        "colab": {
          "base_uri": "https://localhost:8080/",
          "height": 68
        },
        "outputId": "531218bc-95d0-4804-b244-b52b0ed43650"
      },
      "source": [
        "# Question 4\n",
        "# ---\n",
        "# Which station are utilib 1.4 cars mostly returned?\n",
        "# ---\n",
        "# \n",
        "df[(df['utilib_14_status'] > 0)& (df['status']=='ok')&(df['subscription_status']=='operational')].groupby('public_name')['public_name'].count().sort_values(ascending= False)[0:1]\n"
      ],
      "execution_count": null,
      "outputs": [
        {
          "output_type": "execute_result",
          "data": {
            "text/plain": [
              "public_name\n",
              "Fontenay-Sous-Bois/Rabelais/12    4893\n",
              "Name: public_name, dtype: int64"
            ]
          },
          "metadata": {
            "tags": []
          },
          "execution_count": 94
        }
      ]
    },
    {
      "cell_type": "code",
      "metadata": {
        "id": "bWsO2X7GMc03",
        "colab": {
          "base_uri": "https://localhost:8080/",
          "height": 68
        },
        "outputId": "5086c804-c179-4c36-e9b1-3c6e1cd71412"
      },
      "source": [
        "# Question 5\n",
        "# ---\n",
        "# Which is the most popular postal code for picking utilib 1.4 cars?\n",
        "# ---\n",
        "# \n",
        "df[(df['utilib_14_status'] < 0)].groupby('postal_code')['postal_code'].count().sort_values(ascending= False)[0:1]"
      ],
      "execution_count": null,
      "outputs": [
        {
          "output_type": "execute_result",
          "data": {
            "text/plain": [
              "postal_code\n",
              "75015    73083\n",
              "Name: postal_code, dtype: int64"
            ]
          },
          "metadata": {
            "tags": []
          },
          "execution_count": 95
        }
      ]
    },
    {
      "cell_type": "code",
      "metadata": {
        "id": "f_AGsH_RMffQ",
        "colab": {
          "base_uri": "https://localhost:8080/",
          "height": 68
        },
        "outputId": "29dea380-f0f9-4313-8e57-54355b51ccb5"
      },
      "source": [
        "# Question 6\n",
        "# ---\n",
        "# Which is the most popular postal code for picking utilib 1.4 cars?\n",
        "# ---\n",
        "# \n",
        "df[(df['utilib_14_status'] > 0)].groupby('postal_code')['postal_code'].count().sort_values(ascending= False)[0:1]"
      ],
      "execution_count": null,
      "outputs": [
        {
          "output_type": "execute_result",
          "data": {
            "text/plain": [
              "postal_code\n",
              "75015    88264\n",
              "Name: postal_code, dtype: int64"
            ]
          },
          "metadata": {
            "tags": []
          },
          "execution_count": 96
        }
      ]
    }
  ]
}